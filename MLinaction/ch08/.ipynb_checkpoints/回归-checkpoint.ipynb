{
 "cells": [
  {
   "cell_type": "markdown",
   "metadata": {},
   "source": [
    "# 回归"
   ]
  },
  {
   "cell_type": "markdown",
   "metadata": {},
   "source": [
    "## 线性回归\n",
    "- 优点：结果易于理解，计算上不复杂\n",
    "- 缺点：对非线性的数据拟合不好"
   ]
  },
  {
   "cell_type": "code",
   "execution_count": 22,
   "metadata": {
    "collapsed": true
   },
   "outputs": [],
   "source": [
    "import numpy as np\n",
    "\n",
    "def loadDataSet(fileName):\n",
    "    dataMat, labelMat = [], []\n",
    "    with open(fileName) as f:\n",
    "        for line in f.readlines():\n",
    "            curLine = line.strip().split('\\t')\n",
    "            curLine = list(map(float, curLine))\n",
    "            dataMat.append(curLine[:-1])\n",
    "            labelMat.append(curLine[-1])\n",
    "    return dataMat, labelMat\n",
    "\n",
    "def standRegres(xArr, yArr):\n",
    "    xMat = np.mat(xArr)\n",
    "    yMat = np.mat(yArr).T\n",
    "    xTx = xMat.T * xMat\n",
    "    if np.linalg.det(xTx) == 0.0:\n",
    "        print('This matrix is singular, cannot do inverse')\n",
    "        return \n",
    "    return xTx.I * (xMat.T * yMat)"
   ]
  },
  {
   "cell_type": "code",
   "execution_count": 23,
   "metadata": {
    "collapsed": true
   },
   "outputs": [],
   "source": [
    "xArr, yArr = loadDataSet('./ex0.txt')"
   ]
  },
  {
   "cell_type": "code",
   "execution_count": 30,
   "metadata": {},
   "outputs": [
    {
     "data": {
      "text/plain": [
       "[[1.0, 0.067732], [1.0, 0.42781]]"
      ]
     },
     "execution_count": 30,
     "metadata": {},
     "output_type": "execute_result"
    }
   ],
   "source": [
    "xArr[0:2]"
   ]
  },
  {
   "cell_type": "code",
   "execution_count": 25,
   "metadata": {},
   "outputs": [],
   "source": [
    "ws = standRegres(xArr, yArr)"
   ]
  },
  {
   "cell_type": "code",
   "execution_count": 26,
   "metadata": {},
   "outputs": [
    {
     "data": {
      "text/plain": [
       "matrix([[3.00774324],\n",
       "        [1.69532264]])"
      ]
     },
     "execution_count": 26,
     "metadata": {},
     "output_type": "execute_result"
    }
   ],
   "source": [
    "ws"
   ]
  },
  {
   "cell_type": "code",
   "execution_count": 32,
   "metadata": {},
   "outputs": [
    {
     "name": "stdout",
     "output_type": "stream",
     "text": [
      "(200, 2)\n",
      "(1, 200)\n"
     ]
    }
   ],
   "source": [
    "xMat = np.mat(xArr)\n",
    "yMat = np.mat(yArr)\n",
    "print(xMat.shape)\n",
    "print(yMat.shape)\n",
    "yHat = xMat * ws"
   ]
  },
  {
   "cell_type": "code",
   "execution_count": 41,
   "metadata": {},
   "outputs": [
    {
     "data": {
      "image/png": "[encoded data removed]",
      "text/plain": [
       "<matplotlib.figure.Figure at 0x7fd8c2ae9a90>"
      ]
     },
     "metadata": {},
     "output_type": "display_data"
    }
   ],
   "source": [
    "import matplotlib.pyplot as plt\n",
    "fig = plt.figure()\n",
    "ax = fig.add_subplot(111)\n",
    "ax.scatter(xMat[:, 1].flatten().A[0], yMat[0, :].flatten().A[0])\n",
    "xCopy = xMat.copy()\n",
    "xCopy.sort(0)\n",
    "yHat = xCopy*ws\n",
    "ax.plot(xCopy[:, 1], yHat)\n",
    "plt.show()"
   ]
  },
  {
   "cell_type": "code",
   "execution_count": 45,
   "metadata": {},
   "outputs": [
    {
     "data": {
      "text/plain": [
       "array([[1.        , 0.98647356],\n",
       "       [0.98647356, 1.        ]])"
      ]
     },
     "execution_count": 45,
     "metadata": {},
     "output_type": "execute_result"
    }
   ],
   "source": [
    "yHat = xMat*ws\n",
    "np.corrcoef(yHat.T, yMat)"
   ]
  },
  {
   "cell_type": "code",
   "execution_count": 67,
   "metadata": {
    "collapsed": true
   },
   "outputs": [],
   "source": [
    "def lwlr(testPoint, xArr, yArr, k = 1.0):\n",
    "    xMat = np.mat(xArr)\n",
    "    yMat = np.mat(yArr).T\n",
    "    m = xMat.shape[0]\n",
    "    weights = np.mat(np.eye((m)))\n",
    "    for j in range(m):\n",
    "        diffMat = testPoint - xMat[j, :]\n",
    "        weights[j, j] = np.exp(diffMat*diffMat.T /(-2.0 *k**2))\n",
    "    xTx = xMat.T * (weights * xMat)\n",
    "    if np.linalg.det(xTx) == 0.0:\n",
    "        print('This matrix is singular, cannot do inverse')\n",
    "        return \n",
    "    wx = xTx.I * ( xMat.T * (weights * yMat))\n",
    "    return testPoint * wx\n",
    "\n",
    "def lwlrtest(testArr, xArr, yArr, k=1.0):\n",
    "    m = np.shape(testArr)[0]\n",
    "    yHat = np.zeros(m)\n",
    "    for i in range(m):\n",
    "        yHat[i] = lwlr(testArr[i], xArr, yArr, k)\n",
    "    return yHat"
   ]
  },
  {
   "cell_type": "code",
   "execution_count": 68,
   "metadata": {},
   "outputs": [
    {
     "data": {
      "text/plain": [
       "matrix([[3.12204471]])"
      ]
     },
     "execution_count": 68,
     "metadata": {},
     "output_type": "execute_result"
    }
   ],
   "source": [
    "xArr, yArr = loadDataSet('./ex0.txt')\n",
    "lwlr(xArr[0], xArr, yArr, 1.0)"
   ]
  },
  {
   "cell_type": "code",
   "execution_count": 69,
   "metadata": {},
   "outputs": [],
   "source": [
    "yHat = lwlrtest(xArr, xArr, yArr)"
   ]
  },
  {
   "cell_type": "code",
   "execution_count": 70,
   "metadata": {},
   "outputs": [
    {
     "data": {
      "text/plain": [
       "array([3.12204471, 3.73284336, 4.69692033, 4.25997574, 4.67205815,\n",
       "       3.89979584, 3.64981617, 3.06462993, 3.23234485, 3.24169633,\n",
       "       3.42741618, 4.10707034, 4.24787613, 3.40879727, 4.65288661,\n",
       "       4.03784328, 3.61542726, 3.25787329, 4.08932965, 3.39783761,\n",
       "       3.12629106, 3.12106493, 4.57784181, 4.22499774, 3.03329674,\n",
       "       3.57546269, 3.07586196, 3.36765021, 4.05435451, 3.92530073,\n",
       "       3.08411123, 3.22212205, 3.95125595, 4.53636662, 4.63368585,\n",
       "       3.47279924, 3.67613549, 4.48770772, 3.70250157, 4.54964976,\n",
       "       3.29004763, 4.13549978, 3.45441958, 3.39926586, 3.9452161 ,\n",
       "       3.08816389, 3.62751621, 3.84688831, 3.84428111, 4.35125277,\n",
       "       4.31315478, 3.43422203, 3.31571015, 4.3785447 , 3.57384393,\n",
       "       3.58150337, 3.7748906 , 4.18601319, 4.00967978, 3.52940957,\n",
       "       3.25875168, 4.19859322, 4.23146773, 4.13867447, 3.21901745,\n",
       "       4.0561676 , 3.65354789, 3.66128122, 4.325913  , 3.2040255 ,\n",
       "       3.20300481, 4.13294306, 3.43941808, 4.69379223, 3.50821162,\n",
       "       4.6235812 , 3.5279148 , 3.47737983, 3.48050144, 3.30514953,\n",
       "       3.27235   , 4.25119686, 4.44639135, 4.31574207, 3.73569804,\n",
       "       3.28217383, 4.56339108, 3.54148328, 3.3488199 , 3.51093301,\n",
       "       3.57813857, 4.13735536, 3.9977728 , 3.15137008, 4.17283219,\n",
       "       4.61871301, 3.32921189, 4.43940561, 3.57243898, 3.73152804,\n",
       "       3.79828782, 3.94136439, 3.47899493, 4.56628532, 4.51160109,\n",
       "       3.9733276 , 3.1197512 , 3.57661822, 3.73123612, 3.67842653,\n",
       "       4.18508115, 3.46974383, 3.86130443, 3.1210056 , 3.07220096,\n",
       "       4.02363416, 4.61429802, 4.14613244, 3.74472547, 3.87129551,\n",
       "       4.27883053, 3.10557174, 3.82647897, 3.79897863, 3.6139764 ,\n",
       "       4.61780999, 3.71504003, 4.56915748, 3.27243479, 4.12131729,\n",
       "       4.0529964 , 4.45536498, 3.23319944, 4.18302013, 3.30977094,\n",
       "       3.34551764, 3.13135453, 3.49307969, 3.31583735, 4.06166289,\n",
       "       3.59160637, 3.68319531, 3.82205056, 3.2672067 , 3.29857281,\n",
       "       4.47854412, 3.38678321, 3.90341148, 4.51777512, 3.18751671,\n",
       "       4.56478643, 3.03242227, 3.97026179, 3.12394666, 4.03112577,\n",
       "       3.90977536, 4.11231956, 4.53650412, 3.35367751, 4.18823888,\n",
       "       4.64293322, 4.67257923, 4.68364746, 4.68880048, 4.25604553,\n",
       "       3.4371958 , 4.15197762, 4.60125152, 3.40639871, 3.19458504,\n",
       "       3.37689095, 4.48312084, 3.34094505, 4.63318002, 4.6577835 ,\n",
       "       4.27264237, 3.76316251, 3.80539621, 3.9389488 , 3.57651641,\n",
       "       4.50851832, 4.56653485, 3.75661285, 3.20488852, 3.61653365,\n",
       "       4.38980705, 3.66379623, 4.67402706, 4.33220297, 4.11436188,\n",
       "       4.48354863, 4.03319687, 3.4399745 , 4.24675055, 3.84489727,\n",
       "       3.44303652, 4.42193351, 3.12605035, 3.90132188, 3.20415097])"
      ]
     },
     "execution_count": 70,
     "metadata": {},
     "output_type": "execute_result"
    }
   ],
   "source": [
    "yHat"
   ]
  },
  {
   "cell_type": "code",
   "execution_count": 71,
   "metadata": {
    "collapsed": true
   },
   "outputs": [],
   "source": [
    "xMat = np.mat(xArr)\n",
    "srtInd = xMat[:, 1].argsort(0)\n",
    "xSort = xMat[srtInd][:,0,:]"
   ]
  },
  {
   "cell_type": "code",
   "execution_count": 72,
   "metadata": {},
   "outputs": [
    {
     "data": {
      "image/png": "[encoded data removed]",
      "text/plain": [
       "<matplotlib.figure.Figure at 0x7fd8c251c0b8>"
      ]
     },
     "metadata": {},
     "output_type": "display_data"
    }
   ],
   "source": [
    "fig = plt.figure()\n",
    "ax = fig.add_subplot(111)\n",
    "ax.plot(xSort[:,1], yHat[srtInd])\n",
    "ax.scatter(xMat[:, 1].flatten().A[0], np.mat(yArr).T.flatten().A[0], s = 2, c='red')\n",
    "plt.show()"
   ]
  },
  {
   "cell_type": "code",
   "execution_count": null,
   "metadata": {
    "collapsed": true
   },
   "outputs": [],
   "source": []
  }
 ],
 "metadata": {
  "kernelspec": {
   "display_name": "Python 3",
   "language": "python",
   "name": "python3"
  },
  "language_info": {
   "codemirror_mode": {
    "name": "ipython",
    "version": 3
   },
   "file_extension": ".py",
   "mimetype": "text/x-python",
   "name": "python",
   "nbconvert_exporter": "python",
   "pygments_lexer": "ipython3",
   "version": "3.6.3"
  }
 },
 "nbformat": 4,
 "nbformat_minor": 2
}
