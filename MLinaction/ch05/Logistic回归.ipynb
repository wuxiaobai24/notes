{
 "cells": [
  {
   "cell_type": "markdown",
   "metadata": {},
   "source": [
    "# Logistic回归"
   ]
  },
  {
   "cell_type": "markdown",
   "metadata": {
    "collapsed": true
   },
   "source": [
    "- 优点：计算代价不高，易于理解和实现\n",
    "- 缺点：容易欠拟合，分类精度可能不高"
   ]
  },
  {
   "cell_type": "markdown",
   "metadata": {},
   "source": [
    "## sigmoid function\n",
    "\n",
    "$$\\sigma (z) = \\frac 1 {1+e^{-z}}$$"
   ]
  },
  {
   "cell_type": "code",
   "execution_count": 1,
   "metadata": {
    "scrolled": true
   },
   "outputs": [
    {
     "data": {
      "image/png": "[encoded data removed]",
      "text/plain": [
       "<matplotlib.figure.Figure at 0x7f7e219749b0>"
      ]
     },
     "metadata": {},
     "output_type": "display_data"
    }
   ],
   "source": [
    "# 绘制sigmoid function\n",
    "import numpy as np\n",
    "import matplotlib.pyplot as plt\n",
    "\n",
    "x = np.linspace(-10, 10, num=10000)\n",
    "y = 1 / (1 + np.exp(-x))\n",
    "fig = plt.figure()\n",
    "ax = fig.add_subplot(111)\n",
    "ax.plot(x, y)\n",
    "plt.show()"
   ]
  },
  {
   "cell_type": "markdown",
   "metadata": {},
   "source": [
    "$$ h(x)_{\\theta} = {\\theta}_0 + {\\theta}_{1}x_{1} + {\\theta}_2x_{2} $$\n",
    "\n",
    "$$J(\\theta) = \\frac {(h(x)_\\theta - y)^2} 2$$\n",
    "\n",
    "这里的 $\\frac 1 2 $ 是为了求导方便，因为可以实际上没有什么意义，因为可以通过学习率进行调整。\n",
    "\n",
    "$$\n",
    "\\begin{split}\n",
    "\\frac \\partial {\\partial \\theta_{i}} J(\\theta_i)\n",
    "&= \\frac \\partial {\\partial \\theta_{i}} \\frac 1 2 (h_\\theta (x) - y)^2 \\\\\n",
    "&=  (h_\\theta (x) - y) \\frac \\partial {\\partial \\theta_{i}} h_{\\theta}(x) \\\\\n",
    "&=  (h_\\theta (x) - y) \\frac \\partial {\\partial \\theta_{i}} ( \\sum_{i=0}^{n} \\theta_{i} x_i ) \\\\\n",
    "&=  (h_{\\theta}(x) - y) x_{i}\n",
    "\\end{split}\n",
    "$$\n"
   ]
  },
  {
   "cell_type": "code",
   "execution_count": 41,
   "metadata": {
    "collapsed": true
   },
   "outputs": [],
   "source": [
    "def loadDataSet():\n",
    "    dataMat, labelMat = [], []\n",
    "    with open('./testSet.txt') as f:\n",
    "        for line in f.readlines():\n",
    "            lineArr = line.strip().split()\n",
    "            # 这里之所以多一个1.0 是因为对于theta_0来说输入总是1（这样的好处是可以更方便的进行矩阵运算\n",
    "            dataMat.append([1.0, float(lineArr[0]), float(lineArr[1])])\n",
    "            labelMat.append(float(lineArr[2]))\n",
    "    return dataMat, labelMat\n",
    "\n",
    "def sigmoid(z):\n",
    "    return 1.0/(1 + np.exp(-z))\n",
    "\n",
    "def gradAscent(dataMatIn, classLabel):\n",
    "    '''梯度上升算法'''\n",
    "    dataMatrix = np.mat(dataMatIn)\n",
    "    labelMat = np.mat(classLabel).transpose()\n",
    "    m,n = dataMatrix.shape\n",
    "    alpha = 0.001\n",
    "    maxCycles = 500\n",
    "    weight = np.ones((n, 1))\n",
    "    for k in range(maxCycles):\n",
    "        h = sigmoid(dataMatrix * weight)\n",
    "        error = (labelMat - h)\n",
    "        weight = weight + alpha * dataMatrix.transpose() * error\n",
    "    return weight"
   ]
  },
  {
   "cell_type": "code",
   "execution_count": 42,
   "metadata": {},
   "outputs": [
    {
     "data": {
      "text/plain": [
       "matrix([[ 4.12414349],\n",
       "        [ 0.48007329],\n",
       "        [-0.6168482 ]])"
      ]
     },
     "execution_count": 42,
     "metadata": {},
     "output_type": "execute_result"
    }
   ],
   "source": [
    "dataArr, labelMat = loadDataSet()\n",
    "gradAscent(dataArr, labelMat)"
   ]
  },
  {
   "cell_type": "code",
   "execution_count": 10,
   "metadata": {},
   "outputs": [
    {
     "data": {
      "image/png": "[encoded data removed]",
      "text/plain": [
       "<matplotlib.figure.Figure at 0x7f7e18b5da90>"
      ]
     },
     "metadata": {},
     "output_type": "display_data"
    }
   ],
   "source": [
    "import matplotlib.pyplot as plt\n",
    "def plotBestFit(weight, dataMat, labelMat ):\n",
    "    dataArr = np.array(dataMat)\n",
    "    n = np.shape(dataArr)[0]\n",
    "    xcord1, ycord1 = [], []\n",
    "    xcord2, ycord2 = [], []\n",
    "    for i in range(n):\n",
    "        if int(labelMat[i]) == 1:\n",
    "            xcord1.append(dataArr[i,1])\n",
    "            ycord1.append(dataArr[i,2])\n",
    "        else:\n",
    "            xcord2.append(dataArr[i,1])\n",
    "            ycord2.append(dataArr[i,2])\n",
    "    \n",
    "    fig = plt.figure()\n",
    "    ax = fig.add_subplot(111)\n",
    "    ax.scatter(xcord1, ycord1, s=30, c='red', marker='s')\n",
    "    ax.scatter(xcord2, ycord2, s=30, c='green')\n",
    "    x = np.arange(-3.0, 3.0, 1)\n",
    "    # h(X)_W = W[0] + W[1]*X[1] + W[2]*X[2] = 0\n",
    "    #  X[2] = (-W[0] - W[1]*X[1]) / W[2]\n",
    "    y = (-weight[0]-weight[1]*x)/weight[2]\n",
    "    ax.plot(x, y)\n",
    "    plt.xlabel('X1')\n",
    "    plt.ylabel('X2')\n",
    "    plt.show()\n",
    "\n",
    "dataMat, labelMat = loadDataSet()\n",
    "weight = gradAscent(dataMat, labelMat)\n",
    "plotBestFit(weight.getA(), dataMat, labelMat)"
   ]
  },
  {
   "cell_type": "code",
   "execution_count": 43,
   "metadata": {
    "collapsed": true
   },
   "outputs": [],
   "source": [
    "def stocGradAscent0(dataMatrix, classLabel):\n",
    "    '''随机梯度上升'''\n",
    "    m,n = np.shape(dataMatrix)\n",
    "    alpha = 0.01\n",
    "    weights = np.ones(n)\n",
    "    for i in range(m):\n",
    "        h = sigmoid(sum(dataMatrix[i] * weights))\n",
    "        error = classLabel[i] - h\n",
    "        weights = weights + alpha * error * dataMatrix[i]\n",
    "    return weights"
   ]
  },
  {
   "cell_type": "code",
   "execution_count": 44,
   "metadata": {},
   "outputs": [
    {
     "data": {
      "image/png": "[encoded data removed]",
      "text/plain": [
       "<matplotlib.figure.Figure at 0x7f7df10cbf28>"
      ]
     },
     "metadata": {},
     "output_type": "display_data"
    }
   ],
   "source": [
    "dataMat, labelMat = loadDataSet()\n",
    "weights = stocGradAscent0(np.array(dataMat), labelMat)\n",
    "plotBestFit(weights, dataMat, labelMat)"
   ]
  },
  {
   "cell_type": "code",
   "execution_count": 45,
   "metadata": {
    "collapsed": true
   },
   "outputs": [],
   "source": [
    "import random\n",
    "def stocGradAscent1(dataMatrix, classLabel, numIter = 50):\n",
    "    '''随机梯度上升'''\n",
    "    m,n = np.shape(dataMatrix)\n",
    "    weights = np.ones(n)\n",
    "    for j in range(numIter):\n",
    "        for i in range(m):\n",
    "            alpha = 4 / (1.0 + j + i) + 0.01\n",
    "            randIndex = random.randint(0, m - 1)\n",
    "            h = sigmoid(sum(dataMatrix[randIndex] * weights))\n",
    "            error = classLabel[randIndex] - h\n",
    "            weights = weights + alpha * error * dataMatrix[randIndex]\n",
    "    return weights"
   ]
  },
  {
   "cell_type": "code",
   "execution_count": 46,
   "metadata": {},
   "outputs": [
    {
     "data": {
      "image/png": "[encoded data removed]",
      "text/plain": [
       "<matplotlib.figure.Figure at 0x7f7df1095b70>"
      ]
     },
     "metadata": {},
     "output_type": "display_data"
    }
   ],
   "source": [
    "dataMat, labelMat = loadDataSet()\n",
    "weights = stocGradAscent1(np.array(dataMat), labelMat)\n",
    "plotBestFit(weights, dataMat, labelMat)"
   ]
  },
  {
   "cell_type": "code",
   "execution_count": 55,
   "metadata": {},
   "outputs": [],
   "source": [
    "def classifyVector(inX, weights):\n",
    "    prob = sigmoid(sum(inX * weights))\n",
    "    if prob > 0.5:\n",
    "        return 1.0\n",
    "    else:\n",
    "        return 0.0\n",
    "\n",
    "def colicTest():\n",
    "    trainingSet, trainingLabel = [], []\n",
    "    with open('./horseColicTraining.txt') as f:\n",
    "        for line in f.readlines():\n",
    "            currentLine = line.strip().split('\\t')\n",
    "            currentLine = list(map(float, currentLine))\n",
    "            trainingSet.append(currentLine[:21])\n",
    "            trainingLabel.append(currentLine[21])\n",
    "    trainWeight = stocGradAscent1(np.array(trainingSet), trainingLabel, 500)\n",
    "    errorCount, numTestVec = 0, 0.0\n",
    "    with open('./horseColicTest.txt') as f:\n",
    "        for line in f.readlines():\n",
    "            numTestVec += 1.0\n",
    "            currLine = line.strip().split('\\t')\n",
    "            currLine = list(map(float, currLine))\n",
    "            lineArr = currLine[:21]\n",
    "            if int(currLine[21]) != int(classifyVector(lineArr, trainWeight)):\n",
    "                errorCount+=1\n",
    "    errorRate = float(errorCount)/numTestVec\n",
    "    print(\"the error rate is:\", errorRate)\n",
    "    return errorRate"
   ]
  },
  {
   "cell_type": "code",
   "execution_count": 56,
   "metadata": {},
   "outputs": [
    {
     "name": "stderr",
     "output_type": "stream",
     "text": [
      "/home/wuxiaobai24/anaconda3/lib/python3.6/site-packages/ipykernel_launcher.py:12: RuntimeWarning: overflow encountered in exp\n",
      "  if sys.path[0] == '':\n"
     ]
    },
    {
     "name": "stdout",
     "output_type": "stream",
     "text": [
      "the error rate is: 0.4626865671641791\n"
     ]
    },
    {
     "data": {
      "text/plain": [
       "0.4626865671641791"
      ]
     },
     "execution_count": 56,
     "metadata": {},
     "output_type": "execute_result"
    }
   ],
   "source": [
    "colicTest()"
   ]
  },
  {
   "cell_type": "code",
   "execution_count": 57,
   "metadata": {
    "collapsed": true
   },
   "outputs": [],
   "source": [
    "def multiTest():\n",
    "    numTest, errorSum = 10, 0.0\n",
    "    for k in range(numTest):\n",
    "        errorSum += colicTest()\n",
    "    print(\"after %d iterations the avg error rate is %f\" % (numTest, errorSum / float(numTest)))"
   ]
  },
  {
   "cell_type": "code",
   "execution_count": 58,
   "metadata": {},
   "outputs": [
    {
     "name": "stderr",
     "output_type": "stream",
     "text": [
      "/home/wuxiaobai24/anaconda3/lib/python3.6/site-packages/ipykernel_launcher.py:12: RuntimeWarning: overflow encountered in exp\n",
      "  if sys.path[0] == '':\n"
     ]
    },
    {
     "name": "stdout",
     "output_type": "stream",
     "text": [
      "the error rate is: 0.26865671641791045\n",
      "the error rate is: 0.29850746268656714\n",
      "the error rate is: 0.2835820895522388\n",
      "the error rate is: 0.26865671641791045\n",
      "the error rate is: 0.23880597014925373\n",
      "the error rate is: 0.2835820895522388\n",
      "the error rate is: 0.2835820895522388\n",
      "the error rate is: 0.44776119402985076\n",
      "the error rate is: 0.2537313432835821\n",
      "the error rate is: 0.26865671641791045\n",
      "after 10 iterations the avg error rate is 0.289552\n"
     ]
    }
   ],
   "source": [
    "multiTest()"
   ]
  }
 ],
 "metadata": {
  "kernelspec": {
   "display_name": "Python 3",
   "language": "python",
   "name": "python3"
  },
  "language_info": {
   "codemirror_mode": {
    "name": "ipython",
    "version": 3
   },
   "file_extension": ".py",
   "mimetype": "text/x-python",
   "name": "python",
   "nbconvert_exporter": "python",
   "pygments_lexer": "ipython3",
   "version": "3.6.3"
  }
 },
 "nbformat": 4,
 "nbformat_minor": 2
}
